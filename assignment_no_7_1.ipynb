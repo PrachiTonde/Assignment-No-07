{
  "cells": [
    {
      "cell_type": "code",
      "execution_count": null,
      "metadata": {
        "colab": {
          "base_uri": "https://localhost:8080/"
        },
        "id": "vSjApP6vSHgL",
        "outputId": "67111bf5-d5af-4836-b665-8c1a6f980a81"
      },
      "outputs": [
        {
          "output_type": "stream",
          "name": "stdout",
          "text": [
            "Enter the value of Bulk Density of soil: 18\n",
            "Enter the value of Saturated Density of soil: 20\n",
            "Enter the unit weight of Water: 10\n",
            "Enter the value of depth of footing: 2\n",
            "Enter the value of water table above footing level: 0\n",
            "Enter the value of Water table below the level of footing: 0\n",
            "Enter the value of width of footing: 3\n",
            "Enter the value of Nq: 33\n",
            "Enter the value of N gamma (Ng): 34\n",
            "Submerged Weight of soil is: 10.0\n",
            "CASE A\n",
            "The value of ultimate bearing capacity of soil is: 1088.0\n",
            "The value of Rw is: 0.5\n",
            "The value of Rw1 is: 0.5\n",
            "The value of ultimate bearing capacity of soil is: 979.2\n",
            "CASE B\n",
            "The value of ultimate bearing capacity is: 1596.0\n",
            "Enter the value of water table above footing level: 3\n",
            "Enter the value of Water table below the level of footing: 0\n",
            "The approximate value of ultimate bearing capacity is:\n",
            "The value of Rw is: 1.0\n",
            "The value of Rw1 is: 0.5\n",
            "The approximate value of ultimate bearing capacity is: 1591.2\n",
            "CASE C\n",
            "Enter the value of depth of water below footing: 1\n",
            "The value of ultimate bearing capacity is: 1911.2\n",
            "Enter the value of water table above footing level: 3\n",
            "Enter the value of Water table below the level of footing: 1\n",
            "The approximate value of ultimate bearing capacity is:\n",
            "The value of Rw is: 1.0\n",
            "The value of Rw1 is: 0.6666666666666666\n",
            "The value of ultimate bearing capacity is: 1713.6\n"
          ]
        }
      ],
      "source": [
        "# To Determine the bearing capacity of soil with water table\n",
        "\n",
        "# Input values\n",
        "BulkDensity = float(input(\"Enter the value of Bulk Density of soil: \"))\n",
        "SatDensity = float(input(\"Enter the value of Saturated Density of soil: \"))\n",
        "WaterDensity = float(input(\"Enter the unit weight of Water: \"))\n",
        "Df = float(input(\"Enter the value of depth of footing: \"))\n",
        "Dw = float(input(\"Enter the value of water table above footing level: \"))\n",
        "Dw1 = float(input(\"Enter the value of Water table below the level of footing: \"))\n",
        "B = float(input(\"Enter the value of width of footing: \"))\n",
        "Nq = float(input(\"Enter the value of Nq: \"))\n",
        "Ng = float(input(\"Enter the value of N gamma (Ng): \"))\n",
        "\n",
        "# Calculate Submerged Density\n",
        "SubDensity = SatDensity - WaterDensity\n",
        "print(\"Submerged Weight of soil is:\", SubDensity)\n",
        "\n",
        "# The bearing capacity of soil when water table is at ground\n",
        "print(\"CASE A\")\n",
        "qu = (SubDensity * Df * Ng) + (0.5 * 0.8 * B * SubDensity * Ng)\n",
        "print(\"The value of ultimate bearing capacity of soil is:\", qu)\n",
        "\n",
        "# Approximate calculation of Bearing capacity of soil\n",
        "Rw = 0.5 + 0.5 * (Dw / B)\n",
        "print(\"The value of Rw is:\", Rw)\n",
        "Rw1 = 0.5 + 0.5 * (Dw1 / B)\n",
        "print(\"The value of Rw1 is:\", Rw1)\n",
        "qu = (BulkDensity * Df * Ng * Rw) + (0.5 * 0.8 * B * BulkDensity * Ng * Rw1)\n",
        "print(\"The value of ultimate bearing capacity of soil is:\", qu)\n",
        "\n",
        "# Case B\n",
        "print(\"CASE B\")\n",
        "qu = (BulkDensity * Df * Nq) + (0.5 * 0.8 * B * SubDensity * Ng)\n",
        "print(\"The value of ultimate bearing capacity is:\", qu)\n",
        "\n",
        "Dw = float(input(\"Enter the value of water table above footing level: \"))\n",
        "Dw1 = float(input(\"Enter the value of Water table below the level of footing: \"))\n",
        "print(\"The approximate value of ultimate bearing capacity is:\")\n",
        "\n",
        "Rw = 0.5 + 0.5 * (Dw / B)\n",
        "print(\"The value of Rw is:\", Rw)\n",
        "Rw1 = 0.5 + 0.5 * (Dw1 / B)\n",
        "print(\"The value of Rw1 is:\", Rw1)\n",
        "qu = (BulkDensity * Df * Ng * Rw) + (0.5 * 0.8 * B * BulkDensity * Ng * Rw1)\n",
        "print(\"The approximate value of ultimate bearing capacity is:\", qu)\n",
        "\n",
        "# Case C\n",
        "print(\"CASE C\")\n",
        "x = float(input(\"Enter the value of depth of water below footing: \"))\n",
        "qu = (BulkDensity * Df * Ng) + (0.5 * 0.8 * (BulkDensity * x) + (SubDensity * (B - x) * Ng))\n",
        "print(\"The value of ultimate bearing capacity is:\", qu)\n",
        "\n",
        "Dw = float(input(\"Enter the value of water table above footing level: \"))\n",
        "Dw1 = float(input(\"Enter the value of Water table below the level of footing: \"))\n",
        "print(\"The approximate value of ultimate bearing capacity is:\")\n",
        "\n",
        "Rw = 0.5 + 0.5 * (Dw / B)\n",
        "print(\"The value of Rw is:\", Rw)\n",
        "Rw1 = 0.5 + 0.5 * (Dw1 / B)\n",
        "print(\"The value of Rw1 is:\", Rw1)\n",
        "qu = (BulkDensity * Df * Ng * Rw) + (0.5 * 0.8 * B * BulkDensity * Ng * Rw1)\n",
        "print(\"The value of ultimate bearing capacity is:\", qu)"
      ]
    }
  ],
  "metadata": {
    "colab": {
      "provenance": []
    },
    "kernelspec": {
      "display_name": "Python 3",
      "name": "python3"
    },
    "language_info": {
      "name": "python"
    }
  },
  "nbformat": 4,
  "nbformat_minor": 0
}